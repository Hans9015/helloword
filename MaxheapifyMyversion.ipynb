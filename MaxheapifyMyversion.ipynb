{
 "cells": [
  {
   "cell_type": "code",
   "execution_count": 14,
   "metadata": {
    "collapsed": false,
    "scrolled": true
   },
   "outputs": [
    {
     "name": "stdout",
     "output_type": "stream",
     "text": [
      "[14, 11, 13, 9, 10, 12, 7, 8, 4, 2, 5, 1, 6, 3]\n"
     ]
    }
   ],
   "source": [
    "import math\n",
    "\n",
    "def perfect_heap(a,b):\n",
    "    a_len = len(a)\n",
    "    left = 2*b+1\n",
    "    right = 2*b+2\n",
    "    if (right < len(a)):\n",
    "        if (a[b]<a[left]):\n",
    "            if a[left]<a[right]:\n",
    "                nmax = right\n",
    "            else:\n",
    "                nmax = left\n",
    "        else:\n",
    "            if a[b]<a[right]:\n",
    "                nmax = right\n",
    "            else:\n",
    "                nmax = b\n",
    "    else:\n",
    "        if a[b]<a[left]:\n",
    "            nmax = left\n",
    "        else:\n",
    "            nmax = b\n",
    "    if (nmax != b):\n",
    "        tmpt = a[b]\n",
    "        a[b] = a[nmax]\n",
    "        a[nmax] = tmpt\n",
    "        if nmax< a_len/2:\n",
    "            perfect_heap(a,nmax)\n",
    "            \n",
    "def max_heapify(a):\n",
    "    for i in range(int(math.floor(len(a)/2))-1,-1,-1):\n",
    "        perfect_heap(a,i)\n",
    "        \n",
    "a = [1, 2, 3, 4, 5, 6, 7, 8, 9, 10, 11, 12, 13, 14]\n",
    "max_heapify(a)\n",
    "print a"
   ]
  },
  {
   "cell_type": "code",
   "execution_count": 9,
   "metadata": {
    "collapsed": false
   },
   "outputs": [
    {
     "data": {
      "text/plain": [
       "10"
      ]
     },
     "execution_count": 9,
     "metadata": {},
     "output_type": "execute_result"
    }
   ],
   "source": [
    "len(a)"
   ]
  },
  {
   "cell_type": "code",
   "execution_count": 21,
   "metadata": {
    "collapsed": false
   },
   "outputs": [
    {
     "name": "stdout",
     "output_type": "stream",
     "text": [
      "[14, 11, 13, 9, 10, 12, 7, 8, 4, 2, 5, 1, 6, 3]\n"
     ]
    }
   ],
   "source": [
    "def perfect_heap(a,b):\n",
    "    a_len = len(a)\n",
    "    left = 2*b+1\n",
    "    right = 2*b+2\n",
    "    largest = b\n",
    "    if (left <a_len and a[left]>a[largest]):\n",
    "        largest = left\n",
    "    if (right<a_len and a[right]>a[largest]):\n",
    "        largest = right\n",
    "\n",
    "    if (largest != b):\n",
    "        a[b], a[largest] = a[largest], a[b]\n",
    "        if largest < a_len/2:\n",
    "            perfect_heap(a,largest)\n",
    "            \n",
    "def max_heapify(a):\n",
    "    for i in range(len(a)//2-1,-1,-1):\n",
    "        perfect_heap(a,i)\n",
    "        \n",
    "a = [1, 2, 3, 4, 5, 6, 7, 8, 9, 10, 11, 12, 13, 14]\n",
    "max_heapify(a)\n",
    "print a"
   ]
  },
  {
   "cell_type": "code",
   "execution_count": 19,
   "metadata": {
    "collapsed": false
   },
   "outputs": [
    {
     "name": "stdout",
     "output_type": "stream",
     "text": [
      "3 2\n"
     ]
    }
   ],
   "source": [
    "a = 2\n",
    "b = 3\n",
    "a,b = b,a\n",
    "print a,b"
   ]
  },
  {
   "cell_type": "code",
   "execution_count": null,
   "metadata": {
    "collapsed": true
   },
   "outputs": [],
   "source": []
  }
 ],
 "metadata": {
  "anaconda-cloud": {},
  "kernelspec": {
   "display_name": "Python [conda root]",
   "language": "python",
   "name": "conda-root-py"
  },
  "language_info": {
   "codemirror_mode": {
    "name": "ipython",
    "version": 2
   },
   "file_extension": ".py",
   "mimetype": "text/x-python",
   "name": "python",
   "nbconvert_exporter": "python",
   "pygments_lexer": "ipython2",
   "version": "2.7.12"
  }
 },
 "nbformat": 4,
 "nbformat_minor": 1
}
